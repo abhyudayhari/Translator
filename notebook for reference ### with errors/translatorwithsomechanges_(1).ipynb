{
  "cells": [
    {
      "cell_type": "code",
      "execution_count": 1,
      "metadata": {
        "id": "UpSfBObsQrWo"
      },
      "outputs": [],
      "source": [
        "# HYPERPARAMTERS\n",
        "block=51\n",
        "batch=64\n",
        "n_embed=512\n",
        "iters=40000\n",
        "# lr=3e-5\n",
        "n_heads1=8\n",
        "n_layer=6\n",
        "dropout=0.1\n",
        "eval_iters=500\n",
        "# vocab_size=\n",
        "factor=4\n",
        "maxlen=50\n",
        "#------------------\n"
      ]
    },
    {
      "cell_type": "code",
      "execution_count": 2,
      "metadata": {
        "id": "ua2IeEM3QtIU"
      },
      "outputs": [],
      "source": [
        "import torch\n",
        "import torch.nn.functional as f\n",
        "import matplotlib.pyplot as plt\n",
        "import torch.nn as nn\n",
        "import pandas as pd\n"
      ]
    },
    {
      "cell_type": "code",
      "execution_count": null,
      "metadata": {
        "id": "cO378yAB6_mk"
      },
      "outputs": [],
      "source": [
        "from datasets import load_dataset\n",
        "\n",
        "raw_datasets = load_dataset(\"kaitchup/opus-English-to-French\")\n",
        "#raw_datasets.cache_files\n",
        "for split, dataset in raw_datasets.items():\n",
        "    dataset.to_csv(f\"my-dataset-{split}.csv\", index=None)"
      ]
    },
    {
      "cell_type": "code",
      "execution_count": 6,
      "metadata": {
        "id": "CCUp_IbGQvNR"
      },
      "outputs": [],
      "source": [
        "train=pd.read_csv(\"my-dataset-train.csv\")\n",
        "val=pd.read_csv('my-dataset-validation.csv')\n",
        "train[['english','french']]=train['text'].str.split('###>',expand=True)\n",
        "val[['english','french']]=val['text'].str.split('###>',expand=True)\n",
        "traininput=train['english'].tolist()\n",
        "valinput=val['english'].tolist()\n",
        "trainoutput=train['french'].tolist()\n",
        "valoutput=val['french'].tolist()\n",
        "del train,val"
      ]
    },
    {
      "cell_type": "code",
      "execution_count": 4,
      "metadata": {
        "id": "M4vRazseQ4NN"
      },
      "outputs": [],
      "source": [
        "device=torch.device(\"cuda\" if torch.cuda.is_available() else \"cpu\")"
      ]
    },
    {
      "cell_type": "code",
      "execution_count": 13,
      "metadata": {
        "id": "qrC2QiA_YVO3"
      },
      "outputs": [],
      "source": [
        "inputtokenizertext=str(traininput[:10000])\n",
        "outputtokenizertext=str(trainoutput[:10000])"
      ]
    },
    {
      "cell_type": "code",
      "execution_count": 14,
      "metadata": {
        "id": "rIiX4ZKmIm3S"
      },
      "outputs": [],
      "source": [
        "\n",
        "# TOKENIZER TRAINING\n",
        "\n",
        "def check_stats(tokens):\n",
        "\n",
        "  stats={}\n",
        "  for i,b in zip(tokens,tokens[1:]):\n",
        "    stats[(i,b)]=stats.get((i,b),0)+1\n",
        "  return stats\n",
        "def merge(ids, pair, idx):\n",
        "  newids = []\n",
        "  i = 0\n",
        "  while i < len(ids):\n",
        "    if i < len(ids) - 1 and ids[i] == pair[0] and ids[i+1] == pair[1]:\n",
        "      newids.append(idx)\n",
        "      i += 2\n",
        "    else:\n",
        "      newids.append(ids[i])\n",
        "      i += 1\n",
        "  return newids\n",
        "# len(merge(a))\n",
        "def createmerge(text,max_vocab):\n",
        "  tokens=text.encode('utf-8')\n",
        "  tokens=list(map(int,tokens))\n",
        "  ids = list(tokens)\n",
        "  merges={}\n",
        "  num_merges=max_vocab-255\n",
        "\n",
        "  for i in range(num_merges):\n",
        "    stats = check_stats(ids)\n",
        "    pair = max(stats, key=stats.get)\n",
        "    idx = 256 + i\n",
        "    #print(f\"merging {pair} into a new token {idx}\")\n",
        "    ids = merge(ids, pair, idx)\n",
        "    merges[pair] = idx\n",
        "  return merges\n"
      ]
    },
    {
      "cell_type": "code",
      "execution_count": 15,
      "metadata": {
        "id": "U4IpBy1eYVO4"
      },
      "outputs": [],
      "source": [
        "inputmerges=createmerge(inputtokenizertext,1000)\n",
        "outputmerges=createmerge(outputtokenizertext,1000)\n",
        "inputvocab = {idx: bytes([idx]) for idx in range(256)}\n",
        "outputvocab={idx: bytes([idx]) for idx in range(256)}\n",
        "for (p0, p1), idx in inputmerges.items():\n",
        "    inputvocab[idx] = inputvocab[p0] + inputvocab[p1]\n",
        "\n",
        "for (p0, p1), idx in outputmerges.items():\n",
        "    outputvocab[idx] = outputvocab[p0] + outputvocab[p1]\n",
        "\n",
        "inputvocab[1001]=b'|padding|'\n",
        "inputvocab[1002]=b'|eot|'\n",
        "inputvocab[1003]=b'|start|'\n",
        "outputvocab[1001]=b'|padding|'\n",
        "outputvocab[1002]=b'|eot|'\n",
        "outputvocab[1003]=b'|start|'\n",
        "inputvocab_size=len(inputvocab)\n",
        "outputvocab_size=len(outputvocab)"
      ]
    },
    {
      "cell_type": "code",
      "execution_count": 20,
      "metadata": {},
      "outputs": [
        {
          "data": {
            "text/plain": [
              "(b' that', b'Con')"
            ]
          },
          "execution_count": 20,
          "metadata": {},
          "output_type": "execute_result"
        }
      ],
      "source": [
        "inputvocab[500],outputvocab[600]"
      ]
    },
    {
      "cell_type": "code",
      "execution_count": 21,
      "metadata": {},
      "outputs": [
        {
          "data": {
            "text/plain": [
              "(1004, 1004)"
            ]
          },
          "execution_count": 21,
          "metadata": {},
          "output_type": "execute_result"
        }
      ],
      "source": [
        "inputvocab_size,outputvocab_size"
      ]
    },
    {
      "cell_type": "code",
      "execution_count": 45,
      "metadata": {},
      "outputs": [],
      "source": [
        "# inputfiles={\"inputmerges\":inputmerges,\"inputvocab\":inputvocab}\n",
        "# outputfiles={'outputmerges':outputmerges,\"outputvocab\":outputvocab}\n",
        "# inputfile=open(\"inputfile.dat\",\"wb\")\n",
        "# outputfile=open(\"outputfile.dat\",\"wb\")\n",
        "# pickle.dump(inputfiles,inputfile)\n",
        "# pickle.dump(outputfiles,outputfile)\n",
        "# inputfile.close()\n",
        "# outputfile.close()"
      ]
    },
    {
      "cell_type": "code",
      "execution_count": 22,
      "metadata": {
        "id": "yCJ7PlsbIrf5"
      },
      "outputs": [],
      "source": [
        "def encode(text,type=\"input\"):\n",
        "   # given a string, return list of integers (the tokens)\n",
        "  tokens = list(text.encode(\"utf-8\"))\n",
        "  if type=='input':\n",
        "    merges=inputmerges\n",
        "  else:\n",
        "    merges=outputmerges\n",
        "  while len(tokens) >= 2:\n",
        "    stats = check_stats(tokens)\n",
        "    pair = min(stats, key=lambda p: merges.get(p, float(\"inf\")))\n",
        "    if pair not in merges:\n",
        "      break # nothing else can be merged\n",
        "    idx = merges[pair]\n",
        "    tokens = merge(tokens, pair, idx)\n",
        "  return tokens\n",
        "def decode(ids,type='input'):\n",
        "  # given ids (list of integers), return Python string\n",
        "  if type=='input':\n",
        "    vocab=inputvocab\n",
        "  else:\n",
        "    vocab=outputvocab\n",
        "  tokens = b\"\".join(vocab[idx] for idx in ids)\n",
        "  text = tokens.decode(\"utf-8\", errors=\"replace\")\n",
        "  return text\n",
        "#vocab=501\n"
      ]
    },
    {
      "cell_type": "code",
      "execution_count": 24,
      "metadata": {
        "id": "RSjPSc8-lrAt"
      },
      "outputs": [],
      "source": [
        "data=[]\n",
        "for i in [\"train\",\"val\"]:\n",
        "  if i ==\"train\":\n",
        "    inp=traininput\n",
        "    out=trainoutput\n",
        "  else:\n",
        "    inp=valinput\n",
        "    out=valoutput\n",
        "  inp1,out1=[],[]\n",
        "  for r in range(len(inp)):\n",
        "    # print(r)\n",
        "    # print(len(encode(inp[r])))\n",
        "    if len(encode(inp[r],type='input'))<=50 and len(encode(out[r],type='output'))<=50:\n",
        "      inp1+=[inp[r]]\n",
        "      out1+=[out[r]]\n",
        "  data+=[inp1,out1]\n"
      ]
    },
    {
      "cell_type": "code",
      "execution_count": 25,
      "metadata": {
        "id": "w0FekLRj6_mk"
      },
      "outputs": [],
      "source": [
        "traininput1,trainoutput1,valinput1,valoutput1=data"
      ]
    },
    {
      "cell_type": "code",
      "execution_count": null,
      "metadata": {
        "id": "beJZpTXw7RHJ"
      },
      "outputs": [],
      "source": [
        "# decode([1003]+encode(trainoutput1[1],type='output')+[1001]*(maxlen-len(encode(trainoutput1[1],type='outpout')))+[1002],type='output')"
      ]
    },
    {
      "cell_type": "code",
      "execution_count": null,
      "metadata": {
        "colab": {
          "base_uri": "https://localhost:8080/"
        },
        "id": "sqPPdcYttL-j",
        "outputId": "9c7b1ea7-bb0d-4b89-ee0e-25c4bf35acc5"
      },
      "outputs": [],
      "source": [
        "\n",
        "a=[max([len(encode(i)) for i in traininput1]),max([len(encode(i)) for i in trainoutput1]),max([len(encode(i)) for i in valinput1]),max([len(encode(i)) for i in valoutput1])]\n",
        "b=[len(encode(i)) for i in traininput1]+[len(encode(i)) for i in trainoutput1]+[len(encode(i)) for i in valinput1]+[len(encode(i)) for i in valoutput1]\n",
        "maxlen=max(a)\n",
        "maxlen"
      ]
    },
    {
      "cell_type": "code",
      "execution_count": null,
      "metadata": {
        "colab": {
          "base_uri": "https://localhost:8080/"
        },
        "id": "CWNGaJxb97j0",
        "outputId": "d31effc7-32af-452b-f049-ca7318d9c44c"
      },
      "outputs": [
        {
          "data": {
            "text/plain": [
              "(7202, 7202, 522, 522)"
            ]
          },
          "execution_count": 20,
          "metadata": {},
          "output_type": "execute_result"
        }
      ],
      "source": [
        "len(traininput1),len(trainoutput1),len(valinput1),len(valoutput1)"
      ]
    },
    {
      "cell_type": "code",
      "execution_count": null,
      "metadata": {
        "colab": {
          "base_uri": "https://localhost:8080/",
          "height": 472
        },
        "id": "Cz1Bu6OFkgg9",
        "outputId": "7235aeed-8148-4457-8da6-dae8b4ace26b"
      },
      "outputs": [
        {
          "data": {
            "image/png": "[encoded data removed]",
            "text/plain": [
              "<Figure size 640x480 with 1 Axes>"
            ]
          },
          "metadata": {},
          "output_type": "display_data"
        }
      ],
      "source": [
        "import matplotlib.pyplot as plt\n",
        "from collections import Counter\n",
        "\n",
        "def plot_occurrences(numbers):\n",
        "    # Count occurrences of each number in the list\n",
        "    count = Counter(numbers)\n",
        "\n",
        "    # Separate keys (numbers) and values (occurrences)\n",
        "    numbers = list(count.keys())\n",
        "    occurrences = list(count.values())\n",
        "\n",
        "    # Plot the data\n",
        "    plt.bar(numbers, occurrences)\n",
        "\n",
        "    # Add labels and title\n",
        "    plt.xlabel('Number')\n",
        "    plt.ylabel('Occurrences')\n",
        "    plt.title('Number of Occurrences of Numbers in the List')\n",
        "\n",
        "    # Show the plot\n",
        "    plt.show()\n",
        "plot_occurrences(b)"
      ]
    },
    {
      "cell_type": "code",
      "execution_count": 29,
      "metadata": {
        "id": "xOjWRikHRAPX"
      },
      "outputs": [],
      "source": [
        "totraininput=[[1003]+encode(i,type='input')+[1001]*(maxlen-len(encode(i,type='input')))+[1002] for i in traininput1]\n",
        "totrainoutput=[[1003]+encode(i,type='output')+[1001]*(maxlen-len(encode(i,type='output')))+[1002] for i in trainoutput1]\n",
        "tovalinput=[[1003]+encode(i,type='input')+[1001]*(maxlen-len(encode(i,type='input')))+[1002] for i in valinput1]\n",
        "tovaloutput=[[1003]+encode(i,type='output')+[1001]*(maxlen-len(encode(i,type='output')))+[1002] for i in valoutput1]"
      ]
    },
    {
      "cell_type": "code",
      "execution_count": 40,
      "metadata": {},
      "outputs": [],
      "source": [
        "# a=[totraininput,totrainoutput,tovalinput,tovaloutput]\n",
        "# import pickle\n",
        "# file=open(\"tokenized.dat\",\"wb\")\n",
        "# pickle.dump(a,file)\n",
        "# file.close()"
      ]
    },
    {
      "cell_type": "code",
      "execution_count": 50,
      "metadata": {},
      "outputs": [
        {
          "data": {
            "text/plain": [
              "1253"
            ]
          },
          "execution_count": 50,
          "metadata": {},
          "output_type": "execute_result"
        }
      ],
      "source": [
        "# len(tovalinput)"
      ]
    },
    {
      "cell_type": "code",
      "execution_count": 41,
      "metadata": {},
      "outputs": [
        {
          "data": {
            "text/plain": [
              "'|start|This Regulation shall enter into force on the seventh day following its publication in the Official Journal of the European Union. |padding||padding||padding||padding||padding||padding||padding||padding||padding||padding||eot|'"
            ]
          },
          "execution_count": 41,
          "metadata": {},
          "output_type": "execute_result"
        }
      ],
      "source": [
        "# file=open(\"tokenized.dat\",\"rb\")\n",
        "# a=pickle.load(file)\n",
        "# totraininput1=a[0]\n",
        "# decode(totraininput[1],type='input')"
      ]
    },
    {
      "cell_type": "code",
      "execution_count": null,
      "metadata": {
        "id": "f1LpRTL27fJJ"
      },
      "outputs": [],
      "source": [
        "# import pickle\n",
        "# file=open(\"/content/drive/MyDrive/data_for_translator/tokenizedinputs.dat\",\"rb\")\n",
        "# a=pickle.load(file)\n",
        "# file.close()\n",
        "# totrainoutput=a[\"totraininput\"]\n",
        "# totraininput=a[\"totrainoutput\"]\n",
        "# tovaloutput=a[\"tovalinput\"]\n",
        "# tovalinput=a[\"tovaloutput\"]\n",
        "# file=open(\"/content/drive/MyDrive/data_for_translator/merges.dat\",\"rb\")\n",
        "# merges=pickle.load(file)\n",
        "# file.close()\n",
        "# file=open(\"/content/drive/MyDrive/data_for_translator/vocab.dat\",\"rb\")\n",
        "# vocab=pickle.load(file)\n",
        "# file.close()"
      ]
    },
    {
      "cell_type": "code",
      "execution_count": null,
      "metadata": {
        "id": "wv9a5xZ7RCM2"
      },
      "outputs": [],
      "source": [
        "def batches(split,batch,block):\n",
        "  data=[totraininput,totrainoutput] if split==\"train\" else [tovalinput,tovaloutput]\n",
        "  ix=torch.randint(len(data[0]),(batch,))\n",
        "  datain,dataoutput=data[0],data[1]\n",
        "  din=[datain[i] for i in ix]\n",
        "  dout=[dataoutput[i] for i in ix]\n",
        "  xin=torch.stack([torch.tensor(j[1:block]) for j in din])\n",
        "  xout=torch.stack([torch.tensor(j[2:block+1]) for j in din])\n",
        "  yin=torch.stack([torch.tensor(j[:block]) for j in dout])\n",
        "  yout=torch.stack([torch.tensor(j[1:block+1]) for j in dout])\n",
        "  xin,xout,yin,yout=xin.to(device),xout.to(device),yin.to(device),yout.to(device)\n",
        "  return xin,xout,yin,yout\n"
      ]
    },
    {
      "cell_type": "code",
      "execution_count": null,
      "metadata": {
        "colab": {
          "base_uri": "https://localhost:8080/"
        },
        "id": "iXPhq1XS-D_T",
        "outputId": "53c8fac9-82ae-4d66-cd50-c59c3f58a8a2"
      },
      "outputs": [
        {
          "data": {
            "text/plain": [
              "(torch.Size([32, 50]),\n",
              " torch.Size([32, 50]),\n",
              " torch.Size([32, 51]),\n",
              " torch.Size([32, 51]))"
            ]
          },
          "execution_count": 10,
          "metadata": {},
          "output_type": "execute_result"
        }
      ],
      "source": [
        "ein,eout,din,dout=batches(\"train\",32,51)\n",
        "ein.shape,eout.shape,din.shape,dout.shape"
      ]
    },
    {
      "cell_type": "code",
      "execution_count": null,
      "metadata": {
        "id": "AczbPM6ERkE2"
      },
      "outputs": [],
      "source": [
        "class Differentiator(nn.Module):\n",
        "  def __init__(self,n_embed,heads):\n",
        "    super().__init__()     #n_embed is the embeddings after matching it with the embedding table and heads is the number of features\n",
        "    self.key=nn.Linear(n_embed,heads,bias=False)\n",
        "    self.query=nn.Linear(n_embed,heads,bias=False)\n",
        "    self.value=nn.Linear(n_embed,heads,bias=False)\n",
        "  def __call__(self,x):\n",
        "    key=self.key(x)\n",
        "    query=self.query(x)\n",
        "    value=self.value(x)    # B,N,T, HEADS\n",
        "    return [key,query,value]"
      ]
    },
    {
      "cell_type": "code",
      "execution_count": null,
      "metadata": {
        "id": "6Pnlpy0yRg9e"
      },
      "outputs": [],
      "source": [
        "class Multiplier(nn.Module):\n",
        "  def __init__(self):    #batch, number,  block b,n,t\n",
        "    super().__init__()\n",
        "\n",
        "  def __call__(self,k,q,v,n_embed):\n",
        "      #B,T,HEADS\n",
        "    key,query=k,q\n",
        "    wei=query@key.transpose(-2,-1)*(n_embed**-0.5)  #B,N,T,T\n",
        "    return [wei,v]\n"
      ]
    },
    {
      "cell_type": "code",
      "execution_count": null,
      "metadata": {
        "id": "vlv_oLTOTuYD"
      },
      "outputs": [],
      "source": [
        "class Masking(nn.Module):\n",
        "  def __init__(self,block):\n",
        "    super().__init__()\n",
        "    self.register_buffer(\"tril\",torch.tril(torch.ones(block,block)))\n",
        "  def __call__(self,x):\n",
        "    B,T,C=x.shape\n",
        "    x=x.masked_fill(self.tril[:T, :T] == 0, float('-inf'))\n",
        "\n",
        "    return x"
      ]
    },
    {
      "cell_type": "code",
      "execution_count": null,
      "metadata": {
        "id": "Ph89bqO4TbUP"
      },
      "outputs": [],
      "source": [
        "class Head(nn.Module):\n",
        "  def __init__(self,n_embed,heads,block,dropout,mask=False):\n",
        "    super().__init__()\n",
        "    self.n_embed=n_embed\n",
        "    self.mult=Multiplier()\n",
        "    self.mask=Masking(block)\n",
        "    self.maskistrue=mask\n",
        "    self.dropout=nn.Dropout(dropout)\n",
        "  def __call__(self,k,q,v):\n",
        "\n",
        "    wei,v=self.mult(k,q,v,self.n_embed)\n",
        "    if self.maskistrue:\n",
        "      wei=self.mask(wei)\n",
        "\n",
        "    wei=f.softmax(wei,dim=-1)\n",
        "\n",
        "    wei=self.dropout(wei)\n",
        "    out =wei @ v\n",
        "    return out\n"
      ]
    },
    {
      "cell_type": "code",
      "execution_count": null,
      "metadata": {
        "id": "MAnndo34SNTl"
      },
      "outputs": [],
      "source": [
        "class MultipleHead(nn.Module):\n",
        "  def __init__(self,n_embed,heads,block,dropout,n_heads,mask=False):\n",
        "    super().__init__()\n",
        "    self.multihead=nn.ModuleList(Head(n_embed,heads,block,dropout,mask) for _ in range(n_heads))\n",
        "  def __call__(self,k,q,v):\n",
        "    return torch.cat([h(k,q,v) for h in self.multihead],dim=-1)\n",
        "\n"
      ]
    },
    {
      "cell_type": "code",
      "execution_count": null,
      "metadata": {
        "id": "9Q8VbfULXPBw"
      },
      "outputs": [],
      "source": [
        "class FeedForward(nn.Module):\n",
        "   def __init__(self,n_embed,factor,dropout):    #factor is the ratio of the no of new neurons to the original\n",
        "      super().__init__()\n",
        "      self.net=nn.Sequential(nn.Linear(n_embed,factor*n_embed),\n",
        "                             nn.GELU(),\n",
        "                             nn.Linear(factor*n_embed,n_embed),\n",
        "                             nn.Dropout(dropout)\n",
        "      )\n",
        "   def __call__(self,x):\n",
        "        out=self.net(x)\n",
        "        return out"
      ]
    },
    {
      "cell_type": "code",
      "execution_count": null,
      "metadata": {
        "id": "QdZx8m8iXiS9"
      },
      "outputs": [],
      "source": [
        "class EncoderBlock(nn.Module):\n",
        "  def __init__(self,n_embed,factor,block,dropout,n_heads):\n",
        "    super().__init__()\n",
        "    self.lis=Differentiator(n_embed,n_embed//n_heads)\n",
        "    self.multihead=MultipleHead(n_embed,n_embed//n_heads,block,dropout,n_heads,mask=False)\n",
        "    self.ln1=nn.LayerNorm(n_embed)\n",
        "    self.ffd=FeedForward(n_embed,factor,dropout)\n",
        "    self.ln2=nn.LayerNorm(n_embed)\n",
        "  def __call__(self,x):\n",
        "    a=self.ln1(x)\n",
        "    k,q,v=self.lis(a)[0],self.lis(a)[1],self.lis(a)[2]\n",
        "    x=a+self.multihead(k,q,v)\n",
        "    x=self.ffd(self.ln2(x))+x\n",
        "    return x\n",
        "\n",
        "class DecoderBlock(nn.Module):\n",
        "  def __init__(self,n_embed,factor,block,dropout,n_heads):\n",
        "    super().__init__()\n",
        "    self.lis=Differentiator(n_embed,n_embed//n_heads)\n",
        "    self.lis1=Differentiator(n_embed,n_embed//n_heads)\n",
        "    self.lis2=Differentiator(n_embed,n_embed//n_heads)\n",
        "    self.multihead=MultipleHead(n_embed,n_embed//n_heads,block,dropout,n_heads,mask=True)\n",
        "    self.multihead1=MultipleHead(n_embed,n_embed//n_heads,block,dropout,n_heads,mask=False)\n",
        "    self.ln1=nn.LayerNorm(n_embed)\n",
        "    self.ffd=FeedForward(n_embed,factor,dropout)\n",
        "    self.ln2=nn.LayerNorm(n_embed)\n",
        "  def __call__(self,c):\n",
        "\n",
        "    x,encodedata=c\n",
        "    a=self.ln1(x)\n",
        "    k,q,v=self.lis(a)[0],self.lis(a)[1],self.lis(a)[2]\n",
        "    x=a+self.multihead(k,q,v)\n",
        "    key,value=self.lis1(encodedata)[0],self.lis1(encodedata)[2]\n",
        "    query=self.lis2(x)[1]\n",
        "    x=x+self.multihead1(key,query,value)\n",
        "    x=self.ffd(self.ln2(x))+x\n",
        "    return [x,encodedata]"
      ]
    },
    {
      "cell_type": "code",
      "execution_count": null,
      "metadata": {
        "id": "Dlu5vKWkRY9f"
      },
      "outputs": [],
      "source": [
        "\n",
        "class Model(nn.Module):\n",
        "  #self,n_embed,factor,block,dropout,n_heads\n",
        "  def __init__(self,n_embed,factor,block,dropout,n_heads,n_layer):\n",
        "    super().__init__()\n",
        "    self.embed1=nn.Embedding(inputvocab_size,n_embed)\n",
        "    #self.posembed1=positional_encoding(block,n_embed)\n",
        "    #self.posembed=positional_encoding(block,n_embed)\n",
        "    self.posembed1=nn.Embedding(block,n_embed)\n",
        "    self.embed2=nn.Embedding(outputvocab_size,n_embed)\n",
        "    self.posembed2=nn.Embedding(block,n_embed)\n",
        "    self.linhead=nn.Linear(n_embed,outputvocab_size)\n",
        "    self.enc=nn.Sequential(*[EncoderBlock(n_embed=n_embed,n_heads=n_heads,factor=factor,block=block,dropout=dropout) for _ in range(n_layer)])\n",
        "    self.dec=nn.Sequential(*[DecoderBlock(n_embed=n_embed,n_heads=n_heads,factor=factor,block=block,dropout=dropout) for _ in range(n_layer)])\n",
        "    self.ln=nn.LayerNorm(n_embed)\n",
        "    self.ln1=nn.LayerNorm(n_embed)\n",
        "    self.dropout=nn.Dropout(dropout)\n",
        "    self.dropout1=nn.Dropout(dropout)\n",
        "  def __call__(self,encin,decin,decout=None):\n",
        "    B,T=encin.shape\n",
        "    b,t=decin.shape\n",
        "\n",
        "    enctokenembed=self.embed1(encin)  # b,t,cdevice\n",
        "    encposembed=self.posembed1(torch.arange(T,device=device))\n",
        "    xenc=enctokenembed+encposembed\n",
        "    xenc=self.dropout(xenc)\n",
        "    dectokenembed=self.embed2(decin)  # b,t,c\n",
        "    decposembed=self.posembed2(torch.arange(t,device=device))\n",
        "\n",
        "    xdec=dectokenembed+decposembed\n",
        "    xdec=self.dropout1(xdec)\n",
        "    encoutput=self.enc(xenc)\n",
        "    encoutput=self.ln(encoutput)\n",
        "    del enctokenembed,encposembed,xenc,dectokenembed,decposembed\n",
        "    decoutput=self.dec([xdec,encoutput])\n",
        "    decoutput=decoutput[0]\n",
        "    decoutput=self.ln1(decoutput)\n",
        "\n",
        "    logits=self.linhead(decoutput)  #b,t,vocab_size\n",
        "    del decoutput\n",
        "    b,t,c=logits.shape\n",
        "\n",
        "    if decout==None:\n",
        "      loss=None\n",
        "    else:\n",
        "      loss=f.cross_entropy(logits.reshape(b*t,-1),decout.reshape(-1))\n",
        "    return loss,logits\n",
        "  def generate(self,i):\n",
        "    ix=torch.ones((1,1),dtype=torch.long,device=device)*1003\n",
        "    a=torch.tensor([encode(i,type='input')+[1001]*(maxlen-len(encode(i,type='input')))])\n",
        "    a=a.to(device)\n",
        "    while ix[-1][-1]!=1002:\n",
        "      ix_cond=ix[:,-block:]\n",
        "\n",
        "      loss,logits=self(a,ix_cond)\n",
        "      # print(logits.shape)\n",
        "      logits=logits[:,-1,:]\n",
        "      probs=f.softmax(logits,dim=1)\n",
        "      #print(probs.shape)\n",
        "      idx_next=torch.multinomial(probs,num_samples=1)\n",
        "      #idx_next=idx_next.view(1,-1)\n",
        "      ix=torch.cat((ix,idx_next),dim=1)\n",
        "\n",
        "    return ix\n"
      ]
    },
    {
      "cell_type": "code",
      "execution_count": null,
      "metadata": {
        "id": "WUfGtRoF6_mn"
      },
      "outputs": [],
      "source": [
        "\n",
        "class lr_scheduler():\n",
        "    def __init__(self,n_embed,warmup_steps=4000):\n",
        "        self.n_embed=torch.tensor(n_embed,dtype=torch.float64)\n",
        "        self.warmup_steps=torch.tensor(warmup_steps,dtype=torch.float64)\n",
        "    def __call__(self,step):\n",
        "        step=torch.tensor(step,dtype=torch.float64)\n",
        "        #arg1=torch.sqrt(step)\n",
        "        #arg2=step * (self.warmup_steps ** -1.5)\n",
        "\n",
        "        return self.n_embed**-0.5*torch.min(step**-0.5,step*self.warmup_steps**-1.5)\n",
        "\n",
        "\n"
      ]
    },
    {
      "cell_type": "code",
      "execution_count": null,
      "metadata": {
        "id": "mABAHmk7-s1Q"
      },
      "outputs": [],
      "source": [
        "a=lr_scheduler(n_embed)\n"
      ]
    },
    {
      "cell_type": "code",
      "execution_count": null,
      "metadata": {
        "id": "Fv-FDLb_6_mo"
      },
      "outputs": [],
      "source": [
        "# #most suitable hyperparamters found after sweeping are\n",
        "# lr=1e-4\n",
        "# n_embed=256\n",
        "# n_heads1=16\n",
        "# n_layer=6\n",
        "# block=51\n",
        "# batch=64\n",
        "# dropout=0.35\n",
        "# eval_iters=500\n",
        "# iters=20000\n",
        "# factor=4"
      ]
    },
    {
      "cell_type": "code",
      "execution_count": null,
      "metadata": {
        "id": "yOXuPBwHvpzr"
      },
      "outputs": [],
      "source": []
    },
    {
      "cell_type": "code",
      "execution_count": null,
      "metadata": {
        "colab": {
          "base_uri": "https://localhost:8080/"
        },
        "id": "89SKXwbGpXrl",
        "outputId": "4c0fd666-ed44-4e16-99e3-018ab2fd3eba"
      },
      "outputs": [
        {
          "data": {
            "text/plain": [
              "Model(\n",
              "  (embed1): Embedding(504, 512)\n",
              "  (posembed1): Embedding(51, 512)\n",
              "  (embed2): Embedding(504, 512)\n",
              "  (posembed2): Embedding(51, 512)\n",
              "  (linhead): Linear(in_features=512, out_features=504, bias=True)\n",
              "  (enc): Sequential(\n",
              "    (0): EncoderBlock(\n",
              "      (lis): Differentiator(\n",
              "        (key): Linear(in_features=512, out_features=64, bias=False)\n",
              "        (query): Linear(in_features=512, out_features=64, bias=False)\n",
              "        (value): Linear(in_features=512, out_features=64, bias=False)\n",
              "      )\n",
              "      (multihead): MultipleHead(\n",
              "        (multihead): ModuleList(\n",
              "          (0-7): 8 x Head(\n",
              "            (mult): Multiplier()\n",
              "            (mask): Masking()\n",
              "            (dropout): Dropout(p=0.1, inplace=False)\n",
              "          )\n",
              "        )\n",
              "      )\n",
              "      (ln1): LayerNorm((512,), eps=1e-05, elementwise_affine=True)\n",
              "      (ffd): FeedForward(\n",
              "        (net): Sequential(\n",
              "          (0): Linear(in_features=512, out_features=2048, bias=True)\n",
              "          (1): GELU(approximate='none')\n",
              "          (2): Linear(in_features=2048, out_features=512, bias=True)\n",
              "          (3): Dropout(p=0.1, inplace=False)\n",
              "        )\n",
              "      )\n",
              "      (ln2): LayerNorm((512,), eps=1e-05, elementwise_affine=True)\n",
              "    )\n",
              "    (1): EncoderBlock(\n",
              "      (lis): Differentiator(\n",
              "        (key): Linear(in_features=512, out_features=64, bias=False)\n",
              "        (query): Linear(in_features=512, out_features=64, bias=False)\n",
              "        (value): Linear(in_features=512, out_features=64, bias=False)\n",
              "      )\n",
              "      (multihead): MultipleHead(\n",
              "        (multihead): ModuleList(\n",
              "          (0-7): 8 x Head(\n",
              "            (mult): Multiplier()\n",
              "            (mask): Masking()\n",
              "            (dropout): Dropout(p=0.1, inplace=False)\n",
              "          )\n",
              "        )\n",
              "      )\n",
              "      (ln1): LayerNorm((512,), eps=1e-05, elementwise_affine=True)\n",
              "      (ffd): FeedForward(\n",
              "        (net): Sequential(\n",
              "          (0): Linear(in_features=512, out_features=2048, bias=True)\n",
              "          (1): GELU(approximate='none')\n",
              "          (2): Linear(in_features=2048, out_features=512, bias=True)\n",
              "          (3): Dropout(p=0.1, inplace=False)\n",
              "        )\n",
              "      )\n",
              "      (ln2): LayerNorm((512,), eps=1e-05, elementwise_affine=True)\n",
              "    )\n",
              "    (2): EncoderBlock(\n",
              "      (lis): Differentiator(\n",
              "        (key): Linear(in_features=512, out_features=64, bias=False)\n",
              "        (query): Linear(in_features=512, out_features=64, bias=False)\n",
              "        (value): Linear(in_features=512, out_features=64, bias=False)\n",
              "      )\n",
              "      (multihead): MultipleHead(\n",
              "        (multihead): ModuleList(\n",
              "          (0-7): 8 x Head(\n",
              "            (mult): Multiplier()\n",
              "            (mask): Masking()\n",
              "            (dropout): Dropout(p=0.1, inplace=False)\n",
              "          )\n",
              "        )\n",
              "      )\n",
              "      (ln1): LayerNorm((512,), eps=1e-05, elementwise_affine=True)\n",
              "      (ffd): FeedForward(\n",
              "        (net): Sequential(\n",
              "          (0): Linear(in_features=512, out_features=2048, bias=True)\n",
              "          (1): GELU(approximate='none')\n",
              "          (2): Linear(in_features=2048, out_features=512, bias=True)\n",
              "          (3): Dropout(p=0.1, inplace=False)\n",
              "        )\n",
              "      )\n",
              "      (ln2): LayerNorm((512,), eps=1e-05, elementwise_affine=True)\n",
              "    )\n",
              "    (3): EncoderBlock(\n",
              "      (lis): Differentiator(\n",
              "        (key): Linear(in_features=512, out_features=64, bias=False)\n",
              "        (query): Linear(in_features=512, out_features=64, bias=False)\n",
              "        (value): Linear(in_features=512, out_features=64, bias=False)\n",
              "      )\n",
              "      (multihead): MultipleHead(\n",
              "        (multihead): ModuleList(\n",
              "          (0-7): 8 x Head(\n",
              "            (mult): Multiplier()\n",
              "            (mask): Masking()\n",
              "            (dropout): Dropout(p=0.1, inplace=False)\n",
              "          )\n",
              "        )\n",
              "      )\n",
              "      (ln1): LayerNorm((512,), eps=1e-05, elementwise_affine=True)\n",
              "      (ffd): FeedForward(\n",
              "        (net): Sequential(\n",
              "          (0): Linear(in_features=512, out_features=2048, bias=True)\n",
              "          (1): GELU(approximate='none')\n",
              "          (2): Linear(in_features=2048, out_features=512, bias=True)\n",
              "          (3): Dropout(p=0.1, inplace=False)\n",
              "        )\n",
              "      )\n",
              "      (ln2): LayerNorm((512,), eps=1e-05, elementwise_affine=True)\n",
              "    )\n",
              "    (4): EncoderBlock(\n",
              "      (lis): Differentiator(\n",
              "        (key): Linear(in_features=512, out_features=64, bias=False)\n",
              "        (query): Linear(in_features=512, out_features=64, bias=False)\n",
              "        (value): Linear(in_features=512, out_features=64, bias=False)\n",
              "      )\n",
              "      (multihead): MultipleHead(\n",
              "        (multihead): ModuleList(\n",
              "          (0-7): 8 x Head(\n",
              "            (mult): Multiplier()\n",
              "            (mask): Masking()\n",
              "            (dropout): Dropout(p=0.1, inplace=False)\n",
              "          )\n",
              "        )\n",
              "      )\n",
              "      (ln1): LayerNorm((512,), eps=1e-05, elementwise_affine=True)\n",
              "      (ffd): FeedForward(\n",
              "        (net): Sequential(\n",
              "          (0): Linear(in_features=512, out_features=2048, bias=True)\n",
              "          (1): GELU(approximate='none')\n",
              "          (2): Linear(in_features=2048, out_features=512, bias=True)\n",
              "          (3): Dropout(p=0.1, inplace=False)\n",
              "        )\n",
              "      )\n",
              "      (ln2): LayerNorm((512,), eps=1e-05, elementwise_affine=True)\n",
              "    )\n",
              "    (5): EncoderBlock(\n",
              "      (lis): Differentiator(\n",
              "        (key): Linear(in_features=512, out_features=64, bias=False)\n",
              "        (query): Linear(in_features=512, out_features=64, bias=False)\n",
              "        (value): Linear(in_features=512, out_features=64, bias=False)\n",
              "      )\n",
              "      (multihead): MultipleHead(\n",
              "        (multihead): ModuleList(\n",
              "          (0-7): 8 x Head(\n",
              "            (mult): Multiplier()\n",
              "            (mask): Masking()\n",
              "            (dropout): Dropout(p=0.1, inplace=False)\n",
              "          )\n",
              "        )\n",
              "      )\n",
              "      (ln1): LayerNorm((512,), eps=1e-05, elementwise_affine=True)\n",
              "      (ffd): FeedForward(\n",
              "        (net): Sequential(\n",
              "          (0): Linear(in_features=512, out_features=2048, bias=True)\n",
              "          (1): GELU(approximate='none')\n",
              "          (2): Linear(in_features=2048, out_features=512, bias=True)\n",
              "          (3): Dropout(p=0.1, inplace=False)\n",
              "        )\n",
              "      )\n",
              "      (ln2): LayerNorm((512,), eps=1e-05, elementwise_affine=True)\n",
              "    )\n",
              "  )\n",
              "  (dec): Sequential(\n",
              "    (0): DecoderBlock(\n",
              "      (lis): Differentiator(\n",
              "        (key): Linear(in_features=512, out_features=64, bias=False)\n",
              "        (query): Linear(in_features=512, out_features=64, bias=False)\n",
              "        (value): Linear(in_features=512, out_features=64, bias=False)\n",
              "      )\n",
              "      (lis1): Differentiator(\n",
              "        (key): Linear(in_features=512, out_features=64, bias=False)\n",
              "        (query): Linear(in_features=512, out_features=64, bias=False)\n",
              "        (value): Linear(in_features=512, out_features=64, bias=False)\n",
              "      )\n",
              "      (lis2): Differentiator(\n",
              "        (key): Linear(in_features=512, out_features=64, bias=False)\n",
              "        (query): Linear(in_features=512, out_features=64, bias=False)\n",
              "        (value): Linear(in_features=512, out_features=64, bias=False)\n",
              "      )\n",
              "      (multihead): MultipleHead(\n",
              "        (multihead): ModuleList(\n",
              "          (0-7): 8 x Head(\n",
              "            (mult): Multiplier()\n",
              "            (mask): Masking()\n",
              "            (dropout): Dropout(p=0.1, inplace=False)\n",
              "          )\n",
              "        )\n",
              "      )\n",
              "      (multihead1): MultipleHead(\n",
              "        (multihead): ModuleList(\n",
              "          (0-7): 8 x Head(\n",
              "            (mult): Multiplier()\n",
              "            (mask): Masking()\n",
              "            (dropout): Dropout(p=0.1, inplace=False)\n",
              "          )\n",
              "        )\n",
              "      )\n",
              "      (ln1): LayerNorm((512,), eps=1e-05, elementwise_affine=True)\n",
              "      (ffd): FeedForward(\n",
              "        (net): Sequential(\n",
              "          (0): Linear(in_features=512, out_features=2048, bias=True)\n",
              "          (1): GELU(approximate='none')\n",
              "          (2): Linear(in_features=2048, out_features=512, bias=True)\n",
              "          (3): Dropout(p=0.1, inplace=False)\n",
              "        )\n",
              "      )\n",
              "      (ln2): LayerNorm((512,), eps=1e-05, elementwise_affine=True)\n",
              "    )\n",
              "    (1): DecoderBlock(\n",
              "      (lis): Differentiator(\n",
              "        (key): Linear(in_features=512, out_features=64, bias=False)\n",
              "        (query): Linear(in_features=512, out_features=64, bias=False)\n",
              "        (value): Linear(in_features=512, out_features=64, bias=False)\n",
              "      )\n",
              "      (lis1): Differentiator(\n",
              "        (key): Linear(in_features=512, out_features=64, bias=False)\n",
              "        (query): Linear(in_features=512, out_features=64, bias=False)\n",
              "        (value): Linear(in_features=512, out_features=64, bias=False)\n",
              "      )\n",
              "      (lis2): Differentiator(\n",
              "        (key): Linear(in_features=512, out_features=64, bias=False)\n",
              "        (query): Linear(in_features=512, out_features=64, bias=False)\n",
              "        (value): Linear(in_features=512, out_features=64, bias=False)\n",
              "      )\n",
              "      (multihead): MultipleHead(\n",
              "        (multihead): ModuleList(\n",
              "          (0-7): 8 x Head(\n",
              "            (mult): Multiplier()\n",
              "            (mask): Masking()\n",
              "            (dropout): Dropout(p=0.1, inplace=False)\n",
              "          )\n",
              "        )\n",
              "      )\n",
              "      (multihead1): MultipleHead(\n",
              "        (multihead): ModuleList(\n",
              "          (0-7): 8 x Head(\n",
              "            (mult): Multiplier()\n",
              "            (mask): Masking()\n",
              "            (dropout): Dropout(p=0.1, inplace=False)\n",
              "          )\n",
              "        )\n",
              "      )\n",
              "      (ln1): LayerNorm((512,), eps=1e-05, elementwise_affine=True)\n",
              "      (ffd): FeedForward(\n",
              "        (net): Sequential(\n",
              "          (0): Linear(in_features=512, out_features=2048, bias=True)\n",
              "          (1): GELU(approximate='none')\n",
              "          (2): Linear(in_features=2048, out_features=512, bias=True)\n",
              "          (3): Dropout(p=0.1, inplace=False)\n",
              "        )\n",
              "      )\n",
              "      (ln2): LayerNorm((512,), eps=1e-05, elementwise_affine=True)\n",
              "    )\n",
              "    (2): DecoderBlock(\n",
              "      (lis): Differentiator(\n",
              "        (key): Linear(in_features=512, out_features=64, bias=False)\n",
              "        (query): Linear(in_features=512, out_features=64, bias=False)\n",
              "        (value): Linear(in_features=512, out_features=64, bias=False)\n",
              "      )\n",
              "      (lis1): Differentiator(\n",
              "        (key): Linear(in_features=512, out_features=64, bias=False)\n",
              "        (query): Linear(in_features=512, out_features=64, bias=False)\n",
              "        (value): Linear(in_features=512, out_features=64, bias=False)\n",
              "      )\n",
              "      (lis2): Differentiator(\n",
              "        (key): Linear(in_features=512, out_features=64, bias=False)\n",
              "        (query): Linear(in_features=512, out_features=64, bias=False)\n",
              "        (value): Linear(in_features=512, out_features=64, bias=False)\n",
              "      )\n",
              "      (multihead): MultipleHead(\n",
              "        (multihead): ModuleList(\n",
              "          (0-7): 8 x Head(\n",
              "            (mult): Multiplier()\n",
              "            (mask): Masking()\n",
              "            (dropout): Dropout(p=0.1, inplace=False)\n",
              "          )\n",
              "        )\n",
              "      )\n",
              "      (multihead1): MultipleHead(\n",
              "        (multihead): ModuleList(\n",
              "          (0-7): 8 x Head(\n",
              "            (mult): Multiplier()\n",
              "            (mask): Masking()\n",
              "            (dropout): Dropout(p=0.1, inplace=False)\n",
              "          )\n",
              "        )\n",
              "      )\n",
              "      (ln1): LayerNorm((512,), eps=1e-05, elementwise_affine=True)\n",
              "      (ffd): FeedForward(\n",
              "        (net): Sequential(\n",
              "          (0): Linear(in_features=512, out_features=2048, bias=True)\n",
              "          (1): GELU(approximate='none')\n",
              "          (2): Linear(in_features=2048, out_features=512, bias=True)\n",
              "          (3): Dropout(p=0.1, inplace=False)\n",
              "        )\n",
              "      )\n",
              "      (ln2): LayerNorm((512,), eps=1e-05, elementwise_affine=True)\n",
              "    )\n",
              "    (3): DecoderBlock(\n",
              "      (lis): Differentiator(\n",
              "        (key): Linear(in_features=512, out_features=64, bias=False)\n",
              "        (query): Linear(in_features=512, out_features=64, bias=False)\n",
              "        (value): Linear(in_features=512, out_features=64, bias=False)\n",
              "      )\n",
              "      (lis1): Differentiator(\n",
              "        (key): Linear(in_features=512, out_features=64, bias=False)\n",
              "        (query): Linear(in_features=512, out_features=64, bias=False)\n",
              "        (value): Linear(in_features=512, out_features=64, bias=False)\n",
              "      )\n",
              "      (lis2): Differentiator(\n",
              "        (key): Linear(in_features=512, out_features=64, bias=False)\n",
              "        (query): Linear(in_features=512, out_features=64, bias=False)\n",
              "        (value): Linear(in_features=512, out_features=64, bias=False)\n",
              "      )\n",
              "      (multihead): MultipleHead(\n",
              "        (multihead): ModuleList(\n",
              "          (0-7): 8 x Head(\n",
              "            (mult): Multiplier()\n",
              "            (mask): Masking()\n",
              "            (dropout): Dropout(p=0.1, inplace=False)\n",
              "          )\n",
              "        )\n",
              "      )\n",
              "      (multihead1): MultipleHead(\n",
              "        (multihead): ModuleList(\n",
              "          (0-7): 8 x Head(\n",
              "            (mult): Multiplier()\n",
              "            (mask): Masking()\n",
              "            (dropout): Dropout(p=0.1, inplace=False)\n",
              "          )\n",
              "        )\n",
              "      )\n",
              "      (ln1): LayerNorm((512,), eps=1e-05, elementwise_affine=True)\n",
              "      (ffd): FeedForward(\n",
              "        (net): Sequential(\n",
              "          (0): Linear(in_features=512, out_features=2048, bias=True)\n",
              "          (1): GELU(approximate='none')\n",
              "          (2): Linear(in_features=2048, out_features=512, bias=True)\n",
              "          (3): Dropout(p=0.1, inplace=False)\n",
              "        )\n",
              "      )\n",
              "      (ln2): LayerNorm((512,), eps=1e-05, elementwise_affine=True)\n",
              "    )\n",
              "    (4): DecoderBlock(\n",
              "      (lis): Differentiator(\n",
              "        (key): Linear(in_features=512, out_features=64, bias=False)\n",
              "        (query): Linear(in_features=512, out_features=64, bias=False)\n",
              "        (value): Linear(in_features=512, out_features=64, bias=False)\n",
              "      )\n",
              "      (lis1): Differentiator(\n",
              "        (key): Linear(in_features=512, out_features=64, bias=False)\n",
              "        (query): Linear(in_features=512, out_features=64, bias=False)\n",
              "        (value): Linear(in_features=512, out_features=64, bias=False)\n",
              "      )\n",
              "      (lis2): Differentiator(\n",
              "        (key): Linear(in_features=512, out_features=64, bias=False)\n",
              "        (query): Linear(in_features=512, out_features=64, bias=False)\n",
              "        (value): Linear(in_features=512, out_features=64, bias=False)\n",
              "      )\n",
              "      (multihead): MultipleHead(\n",
              "        (multihead): ModuleList(\n",
              "          (0-7): 8 x Head(\n",
              "            (mult): Multiplier()\n",
              "            (mask): Masking()\n",
              "            (dropout): Dropout(p=0.1, inplace=False)\n",
              "          )\n",
              "        )\n",
              "      )\n",
              "      (multihead1): MultipleHead(\n",
              "        (multihead): ModuleList(\n",
              "          (0-7): 8 x Head(\n",
              "            (mult): Multiplier()\n",
              "            (mask): Masking()\n",
              "            (dropout): Dropout(p=0.1, inplace=False)\n",
              "          )\n",
              "        )\n",
              "      )\n",
              "      (ln1): LayerNorm((512,), eps=1e-05, elementwise_affine=True)\n",
              "      (ffd): FeedForward(\n",
              "        (net): Sequential(\n",
              "          (0): Linear(in_features=512, out_features=2048, bias=True)\n",
              "          (1): GELU(approximate='none')\n",
              "          (2): Linear(in_features=2048, out_features=512, bias=True)\n",
              "          (3): Dropout(p=0.1, inplace=False)\n",
              "        )\n",
              "      )\n",
              "      (ln2): LayerNorm((512,), eps=1e-05, elementwise_affine=True)\n",
              "    )\n",
              "    (5): DecoderBlock(\n",
              "      (lis): Differentiator(\n",
              "        (key): Linear(in_features=512, out_features=64, bias=False)\n",
              "        (query): Linear(in_features=512, out_features=64, bias=False)\n",
              "        (value): Linear(in_features=512, out_features=64, bias=False)\n",
              "      )\n",
              "      (lis1): Differentiator(\n",
              "        (key): Linear(in_features=512, out_features=64, bias=False)\n",
              "        (query): Linear(in_features=512, out_features=64, bias=False)\n",
              "        (value): Linear(in_features=512, out_features=64, bias=False)\n",
              "      )\n",
              "      (lis2): Differentiator(\n",
              "        (key): Linear(in_features=512, out_features=64, bias=False)\n",
              "        (query): Linear(in_features=512, out_features=64, bias=False)\n",
              "        (value): Linear(in_features=512, out_features=64, bias=False)\n",
              "      )\n",
              "      (multihead): MultipleHead(\n",
              "        (multihead): ModuleList(\n",
              "          (0-7): 8 x Head(\n",
              "            (mult): Multiplier()\n",
              "            (mask): Masking()\n",
              "            (dropout): Dropout(p=0.1, inplace=False)\n",
              "          )\n",
              "        )\n",
              "      )\n",
              "      (multihead1): MultipleHead(\n",
              "        (multihead): ModuleList(\n",
              "          (0-7): 8 x Head(\n",
              "            (mult): Multiplier()\n",
              "            (mask): Masking()\n",
              "            (dropout): Dropout(p=0.1, inplace=False)\n",
              "          )\n",
              "        )\n",
              "      )\n",
              "      (ln1): LayerNorm((512,), eps=1e-05, elementwise_affine=True)\n",
              "      (ffd): FeedForward(\n",
              "        (net): Sequential(\n",
              "          (0): Linear(in_features=512, out_features=2048, bias=True)\n",
              "          (1): GELU(approximate='none')\n",
              "          (2): Linear(in_features=2048, out_features=512, bias=True)\n",
              "          (3): Dropout(p=0.1, inplace=False)\n",
              "        )\n",
              "      )\n",
              "      (ln2): LayerNorm((512,), eps=1e-05, elementwise_affine=True)\n",
              "    )\n",
              "  )\n",
              "  (ln): LayerNorm((512,), eps=1e-05, elementwise_affine=True)\n",
              "  (ln1): LayerNorm((512,), eps=1e-05, elementwise_affine=True)\n",
              "  (dropout): Dropout(p=0.1, inplace=False)\n",
              "  (dropout1): Dropout(p=0.1, inplace=False)\n",
              ")"
            ]
          },
          "execution_count": 22,
          "metadata": {},
          "output_type": "execute_result"
        }
      ],
      "source": [
        "m=Model(n_embed=n_embed,factor=factor,block=block,n_heads=n_heads1,n_layer=n_layer,dropout=dropout)\n",
        "#m.load_state_dict(torch.load(\"/content/drive/MyDrive/data_for_translator/model_val=0.9094.pt\"))\n",
        "m.to(device)"
      ]
    },
    {
      "cell_type": "code",
      "execution_count": null,
      "metadata": {
        "id": "g2KBtKVTw0_E"
      },
      "outputs": [],
      "source": [
        "from tqdm import tqdm\n",
        "@torch.no_grad()\n",
        "def estimate_loss(batch,block,eval_iters,model):\n",
        "  out={}\n",
        "  model.eval()\n",
        "  print(\"estimating loss using functino\")\n",
        "  for split in ['train','val']:\n",
        "\n",
        "    losses=torch.zeros(eval_iters)\n",
        "    for k in tqdm(range(eval_iters)):\n",
        "      ein,eout,din,dout=batches(split,batch,block)\n",
        "      loss,logits=model(ein,din,dout)\n",
        "      losses[k] =loss.item()\n",
        "    out[split]=losses.mean()\n",
        "    print(out[split],\" \",split)\n",
        "  print(out)\n",
        "  model.train()\n",
        "  return out\n"
      ]
    },
    {
      "cell_type": "code",
      "execution_count": null,
      "metadata": {
        "id": "SiROczZNxh5L"
      },
      "outputs": [],
      "source": [
        "from tqdm import tqdm\n",
        "import matplotlib.pyplot as plt\n",
        "import pylab as pl\n",
        "from IPython import display\n",
        "def training(lossl=None):\n",
        "  if lossl==None:\n",
        "    lossl=[]\n",
        "  else:\n",
        "    lossl=lossl\n",
        "  print(\"running on \",device)\n",
        "  for steps in tqdm(range(40000,80000)):\n",
        "    ein,eout,din,dout=batches(\"train\",batch=batch,block=block)\n",
        "    lr=a(steps)\n",
        "    optimizer = torch.optim.AdamW(m.parameters(), lr=lr,betas=(0.9,0.98),eps=1e-9)\n",
        "    loss,logits=m(ein,din,dout)\n",
        "    optimizer.zero_grad(set_to_none=True)\n",
        "    loss.backward()\n",
        "    optimizer.step()\n",
        "    lossl+=[loss.item()]\n",
        "    # if steps%eval_iters==0 or steps==iters-1:\n",
        "    #    estimate_loss(batch,block,eval_iters,m)\n",
        "    if steps%5000==0:\n",
        "      torch.save(m.state_dict(), f\"/content/drive/MyDrive/data_for_translator/model{steps}.pt\")\n",
        "\n",
        "    if steps%200==0 or steps==80000-1:\n",
        "\n",
        "      pl.plot(range(len(lossl)),lossl,color=\"red\")\n",
        "      pl.axhline(y=1, color='b', linestyle='--')\n",
        "      display.clear_output(wait=True)\n",
        "      display.display(pl.gcf())\n",
        "  torch.save(m.state_dict(), f\"/content/drive/MyDrive/data_for_translator/model{steps}.pt\")\n",
        "  return lossl\n"
      ]
    },
    {
      "cell_type": "code",
      "execution_count": null,
      "metadata": {
        "id": "GvV_pSQ2kgYk"
      },
      "outputs": [],
      "source": [
        "losses=[]"
      ]
    },
    {
      "cell_type": "code",
      "execution_count": null,
      "metadata": {
        "colab": {
          "base_uri": "https://localhost:8080/"
        },
        "id": "-jEwtFY-6_mv",
        "outputId": "cc3fc3c2-900a-4cb6-9e7a-ee096abe7172"
      },
      "outputs": [
        {
          "name": "stdout",
          "output_type": "stream",
          "text": [
            "estimating loss using functino\n"
          ]
        },
        {
          "name": "stderr",
          "output_type": "stream",
          "text": [
            "100%|██████████| 500/500 [00:44<00:00, 11.20it/s]\n"
          ]
        },
        {
          "name": "stdout",
          "output_type": "stream",
          "text": [
            "tensor(0.7248)   train\n"
          ]
        },
        {
          "name": "stderr",
          "output_type": "stream",
          "text": [
            "100%|██████████| 500/500 [00:39<00:00, 12.72it/s]"
          ]
        },
        {
          "name": "stdout",
          "output_type": "stream",
          "text": [
            "tensor(0.9094)   val\n",
            "{'train': tensor(0.7248), 'val': tensor(0.9094)}\n"
          ]
        },
        {
          "name": "stderr",
          "output_type": "stream",
          "text": [
            "\n"
          ]
        },
        {
          "data": {
            "text/plain": [
              "{'train': tensor(0.7248), 'val': tensor(0.9094)}"
            ]
          },
          "execution_count": 32,
          "metadata": {},
          "output_type": "execute_result"
        }
      ],
      "source": [
        "estimate_loss(batch,block,eval_iters,m)"
      ]
    },
    {
      "cell_type": "code",
      "execution_count": null,
      "metadata": {
        "colab": {
          "base_uri": "https://localhost:8080/",
          "height": 35
        },
        "id": "KrHG8GIS6_mv",
        "outputId": "e2bb1c93-2822-4eef-a44c-f68c04ec9b94"
      },
      "outputs": [
        {
          "data": {
            "application/vnd.google.colaboratory.intrinsic+json": {
              "type": "string"
            },
            "text/plain": [
              "'Veuillez me prononc.\", \\'les enfof the s ?'"
            ]
          },
          "execution_count": 40,
          "metadata": {},
          "output_type": "execute_result"
        }
      ],
      "source": [
        "raw=m.generate(\"How are you doing today?\")[-1].tolist()\n",
        "raw=[i for i in raw if i not in [502,501,503]]\n",
        "decode(raw)"
      ]
    },
    {
      "cell_type": "code",
      "execution_count": null,
      "metadata": {
        "colab": {
          "base_uri": "https://localhost:8080/"
        },
        "id": "7o66X8Om6_mw",
        "outputId": "d3a4358f-68d5-49c4-bedf-90d431b8cb90"
      },
      "outputs": [
        {
          "data": {
            "text/plain": [
              "28409336"
            ]
          },
          "execution_count": 22,
          "metadata": {},
          "output_type": "execute_result"
        }
      ],
      "source": [
        "sum(p.numel() for p in m.parameters())"
      ]
    },
    {
      "cell_type": "code",
      "execution_count": null,
      "metadata": {
        "id": "JjYteTyx6_mw"
      },
      "outputs": [],
      "source": [
        "# a={\"totraininput\":totraininput,\"totrainoutput\":totrainoutput,\"tovalinput\":tovalinput,\"tovaloutput\":tovaloutput}"
      ]
    },
    {
      "cell_type": "code",
      "execution_count": null,
      "metadata": {
        "id": "X__fF4x76_mw"
      },
      "outputs": [],
      "source": [
        "# a={\"traininput\":traininput1,\"trainoutput\":trainoutput1,\"valinput\":valinput1,\"valoutput\":valoutput1}"
      ]
    },
    {
      "cell_type": "code",
      "execution_count": null,
      "metadata": {
        "id": "KnEe18Jr6_mw"
      },
      "outputs": [],
      "source": [
        "# import pickle\n",
        "# file=open(\"trimmedinputs.dat\",\"wb\")\n",
        "# pickle.dump(a,file)\n",
        "# file.close()"
      ]
    },
    {
      "cell_type": "code",
      "execution_count": null,
      "metadata": {
        "id": "-mRYbUAFxCZa"
      },
      "outputs": [],
      "source": [
        "# steps=53\n",
        "# torch.save(m.state_dict(), f\"/content/model_val=0.9094.pt\")"
      ]
    },
    {
      "cell_type": "code",
      "execution_count": null,
      "metadata": {
        "id": "7nQWhqCykwGQ"
      },
      "outputs": [],
      "source": [
        "torch.save(m.state_dict(), \"/content/model2.pt\")"
      ]
    },
    {
      "cell_type": "code",
      "execution_count": null,
      "metadata": {
        "id": "BChcqQ4e6_mx"
      },
      "outputs": [],
      "source": [
        "#{'train': tensor(0.7658), 'val': tensor(1.4724)} when lr=3e-4 and embed is 256 iter= 2000 b=64\n",
        "#{'train': tensor(1.2398), 'val': tensor(1.5915)} when lr =2e-4 and embed is 128 iter =2000 b=32\n",
        "#{'train': tensor(1.1645), 'val': tensor(1.5469)} wehn lr =3e-4 and embed is 128 iter=2000 b=32\n",
        "#{'train': tensor(0.5140), 'val': tensor(1.5265)} when lr =3e-4 and embed is 256 iter =4000 b=64 overfit ho rha h yha\n"
      ]
    },
    {
      "cell_type": "code",
      "execution_count": null,
      "metadata": {
        "id": "8tvh4F806Drg"
      },
      "outputs": [],
      "source": [
        "# import pickle\n",
        "\n",
        "# vocabreader=open('vocab.dat','rb')\n",
        "# mergesreader=open('merges.dat','rb')\n",
        "# vocab=pickle.load(vocabreader)\n",
        "# merges=pickle.load(mergesreader)\n",
        "# vocab_size=len(vocab)"
      ]
    },
    {
      "cell_type": "code",
      "execution_count": null,
      "metadata": {
        "id": "kFnvJ0LX6_mx"
      },
      "outputs": [],
      "source": [
        "import wandb\n",
        "wandb.login()\n",
        "\n",
        "sweep_config={\n",
        "    'method':'random'\n",
        "}\n",
        "\n",
        "metric={\n",
        "    'name':'loss',\n",
        "    'goal':'minimize'\n",
        "\n",
        "}\n",
        "\n",
        "parameters_dict={\n",
        "    'batch':{\n",
        "        'values':[32,64,128]\n",
        "    },\n",
        "    'n_embed':{\n",
        "    'values':[32,64,128,512]\n",
        "    },\n",
        "    'n_heads':{\n",
        "        \"values\":[8,16]\n",
        "    },\n",
        "    'n_layers':{\n",
        "        'values':[4,6,8,10,12]\n",
        "    },\n",
        "    'dropout':{\n",
        "        'values':[0.2,0.3,0.35,0.4]\n",
        "    },\n",
        "    'factor':{\n",
        "        'values':[4,8]\n",
        "    },\n",
        "    'lr':{\n",
        "        'values':[4e-5,8e-5,1,1e-4,3e-4,7e-4,3e-3,1e-3]\n",
        "    }\n",
        "\n",
        "\n",
        "}\n",
        "\n",
        "parameters_dict.update({\n",
        "    'iters':{'value':2000},\n",
        "    'block':{'value':51},\n",
        "    'eval_iters':{\"value\":500}\n",
        "\n",
        "})\n",
        "sweep_config['parameters']=parameters_dict\n",
        "sweep_config['metric']=metric"
      ]
    },
    {
      "cell_type": "code",
      "execution_count": null,
      "metadata": {
        "id": "rmEqak9H6_mx",
        "outputId": "d19e78fe-124f-4868-8e7d-f95752dc057d"
      },
      "outputs": [
        {
          "name": "stdout",
          "output_type": "stream",
          "text": [
            "{'method': 'random',\n",
            " 'metric': {'goal': 'minimize', 'name': 'loss'},\n",
            " 'parameters': {'batch': {'values': [32, 64, 128]},\n",
            "                'block': {'value': 51},\n",
            "                'dropout': {'values': [0.2, 0.3, 0.35, 0.4]},\n",
            "                'eval_iters': {'value': 500},\n",
            "                'factor': {'values': [4, 8]},\n",
            "                'iters': {'value': 2000},\n",
            "                'lr': {'values': [4e-05,\n",
            "                                  8e-05,\n",
            "                                  1,\n",
            "                                  0.0001,\n",
            "                                  0.0003,\n",
            "                                  0.0007,\n",
            "                                  0.003,\n",
            "                                  0.001]},\n",
            "                'n_embed': {'values': [32, 64, 128, 512]},\n",
            "                'n_heads': {'values': [8, 16]},\n",
            "                'n_layers': {'values': [4, 6, 8, 10, 12]}}}\n"
          ]
        }
      ],
      "source": [
        "import pprint\n",
        "pprint.pprint(sweep_config)"
      ]
    },
    {
      "cell_type": "code",
      "execution_count": null,
      "metadata": {
        "id": "kkV0NXHr6_my",
        "outputId": "94e6a03f-4a62-4609-bf58-af33a9d5a660"
      },
      "outputs": [
        {
          "name": "stdout",
          "output_type": "stream",
          "text": [
            "Create sweep with ID: 70wa861c\n",
            "Sweep URL: https://wandb.ai/abhyudayhari/uncategorized/sweeps/70wa861c\n"
          ]
        }
      ],
      "source": [
        "from tqdm import tqdm\n",
        "def training(config=None):\n",
        "  with wandb.init(config=config):\n",
        "        # If called by wandb.agent, as below,\n",
        "        # this config will be set by Sweep Controller\n",
        "        config = wandb.config\n",
        "\n",
        "        #loader = build_dataset(config.batch_size)\n",
        "        m=Model(n_embed=config.n_embed,factor=config.factor,block=config.block,n_heads=config.n_heads,n_layer=config.n_layers,dropout=config.dropout)\n",
        "        m.to(device)\n",
        "        #network = build_network(config.fc_layer_size, config.dropout)\n",
        "        optimizer = torch.optim.AdamW(m.parameters(), lr=config.lr)\n",
        "        #optimizer = torch.optim.AdamW(config.optimizer, confi \"epoch\": epochg.learning_rate)\n",
        "        cum=[]\n",
        "        for epoch in tqdm(range(config.iters)):\n",
        "             ein,eout,din,dout=batches(\"train\",batch=config.batch,block=config.block)\n",
        "             loss,logits=m(ein,din,dout)\n",
        "             optimizer.zero_grad(set_to_none=True)\n",
        "             loss.backward()\n",
        "             cum+=[loss.item()]\n",
        "             optimizer.step()\n",
        "        cum=torch.tensor(cum,dtype=torch.float)\n",
        "        avgloss=cum.mean()\n",
        "        a=estimate_loss(batch=config.batch,block=config.block,eval_iters=config.eval_iters,model=m)\n",
        "        wandb.log({\"avgtrainingloss\":avgloss,\"loss\":float(a['val']),\"trainloss\":float(a['train'])})\n",
        "\n",
        "        #\n",
        "        #print(a)\n",
        "            #  avg_loss = train_epoch(network, loader, optimizer)\n",
        "        # wandb.log({\"loss\": float(a['val'])})\n",
        "sweep_id = wandb.sweep(sweep_config)"
      ]
    },
    {
      "cell_type": "code",
      "execution_count": null,
      "metadata": {
        "id": "UeLvq4P56_my",
        "outputId": "5c31cd04-620a-49bf-b6fa-8cfa1b9e012a"
      },
      "outputs": [
        {
          "name": "stdout",
          "output_type": "stream",
          "text": [
            "[0, 1, 2, 3, 4, 5, 6, 7, 8, 9]\n",
            "tensor(4.5000)\n"
          ]
        }
      ],
      "source": [
        "a=[i for i in range(10)]\n",
        "print(a)\n",
        "a=torch.tensor(a,dtype=torch.float)\n",
        "print(a.mean())"
      ]
    },
    {
      "cell_type": "code",
      "execution_count": null,
      "metadata": {
        "id": "iwgFklwy6_my"
      },
      "outputs": [],
      "source": [
        "wandb.agent(sweep_id,training,count=100)"
      ]
    },
    {
      "cell_type": "code",
      "execution_count": null,
      "metadata": {
        "id": "d0nLyrJ66_my"
      },
      "outputs": [],
      "source": [
        "a=m.generate(\"Hi what were you doing yesterday\")[-1].tolist()\n",
        "a=[i for i in a if i not in [502,501,503]]\n",
        "decode(a)"
      ]
    }
  ],
  "metadata": {
    "accelerator": "GPU",
    "colab": {
      "gpuType": "T4",
      "provenance": []
    },
    "kernelspec": {
      "display_name": "Python 3",
      "name": "python3"
    },
    "language_info": {
      "codemirror_mode": {
        "name": "ipython",
        "version": 3
      },
      "file_extension": ".py",
      "mimetype": "text/x-python",
      "name": "python",
      "nbconvert_exporter": "python",
      "pygments_lexer": "ipython3",
      "version": "3.11.4"
    }
  },
  "nbformat": 4,
  "nbformat_minor": 0
}
